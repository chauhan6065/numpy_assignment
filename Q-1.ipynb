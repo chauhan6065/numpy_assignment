{
 "cells": [
  {
   "cell_type": "markdown",
   "id": "a4b88451",
   "metadata": {},
   "source": [
    "# Q-1 Use numpy to generate array of 25 random numbers sampled from a standard normal distribution"
   ]
  },
  {
   "cell_type": "code",
   "execution_count": 1,
   "id": "2e49e6d5",
   "metadata": {},
   "outputs": [
    {
     "data": {
      "text/plain": [
       "array([-0.5058383 ,  1.24874485, -0.6723173 , -1.26290786,  0.22586959,\n",
       "        0.43576281,  0.66911606, -0.29440214, -0.4312367 ,  0.90310094,\n",
       "       -0.57613854,  0.97667223,  1.20070027,  0.42998934, -0.22072074,\n",
       "        0.27082293, -1.92075468,  0.10545302, -1.47014465, -1.18503108,\n",
       "        0.96146513,  0.07348352,  1.14139749, -1.04373617,  0.57619466])"
      ]
     },
     "execution_count": 1,
     "metadata": {},
     "output_type": "execute_result"
    }
   ],
   "source": [
    "import numpy as np\n",
    "\n",
    "np.random.randn(25)"
   ]
  }
 ],
 "metadata": {
  "kernelspec": {
   "display_name": "Python 3",
   "language": "python",
   "name": "python3"
  },
  "language_info": {
   "codemirror_mode": {
    "name": "ipython",
    "version": 3
   },
   "file_extension": ".py",
   "mimetype": "text/x-python",
   "name": "python",
   "nbconvert_exporter": "python",
   "pygments_lexer": "ipython3",
   "version": "3.9.5"
  }
 },
 "nbformat": 4,
 "nbformat_minor": 5
}
