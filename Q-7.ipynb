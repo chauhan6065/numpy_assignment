{
 "cells": [
  {
   "cell_type": "markdown",
   "id": "0b37438b",
   "metadata": {},
   "source": [
    "# Q7-How to get the common items between two python numpy arrays?"
   ]
  },
  {
   "cell_type": "code",
   "execution_count": 2,
   "id": "609328e3",
   "metadata": {},
   "outputs": [
    {
     "name": "stdout",
     "output_type": "stream",
     "text": [
      "Original arrays [1 2 3 2 3 4 3 4 5 6]   [ 7  2 10  2  7  4  9  4  9  8]\n",
      "Common values [2 4]\n"
     ]
    }
   ],
   "source": [
    "# Finding common values between numpy arrays\n",
    "import numpy as np\n",
    "    \n",
    "# create 2 arrays\n",
    "a = np.array([1,2,3,2,3,4,3,4,5,6])\n",
    "\n",
    "b = np.array([7,2,10,2,7,4,9,4,9,8])\n",
    "  \n",
    "# Display the arrays\n",
    "print(\"Original arrays\", a, ' ', b)\n",
    "  \n",
    "# use the np.intersect1d method\n",
    "c = np.intersect1d(a, b)\n",
    "  \n",
    "# Display result\n",
    "print(\"Common values\", c)"
   ]
  }
 ],
 "metadata": {
  "kernelspec": {
   "display_name": "Python 3",
   "language": "python",
   "name": "python3"
  },
  "language_info": {
   "codemirror_mode": {
    "name": "ipython",
    "version": 3
   },
   "file_extension": ".py",
   "mimetype": "text/x-python",
   "name": "python",
   "nbconvert_exporter": "python",
   "pygments_lexer": "ipython3",
   "version": "3.9.5"
  }
 },
 "nbformat": 4,
 "nbformat_minor": 5
}
