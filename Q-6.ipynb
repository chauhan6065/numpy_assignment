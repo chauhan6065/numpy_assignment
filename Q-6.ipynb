{
 "cells": [
  {
   "cell_type": "markdown",
   "id": "41169d03",
   "metadata": {},
   "source": [
    "# Q6-Concatenate following arrays along axis=0"
   ]
  },
  {
   "cell_type": "code",
   "execution_count": 4,
   "id": "afce87be",
   "metadata": {},
   "outputs": [
    {
     "name": "stdout",
     "output_type": "stream",
     "text": [
      "First array:\n",
      "[[1 2]\n",
      " [3 4]]\n",
      "\n",
      "\n",
      "Second array:\n",
      "[[5 6]]\n",
      "\n",
      "\n",
      "Joining the two arrays along axis 0:\n",
      "[[1 2]\n",
      " [3 4]\n",
      " [5 6]]\n"
     ]
    }
   ],
   "source": [
    "import numpy as np \n",
    "\n",
    "x=np.array([[1,2],[3,4]])\n",
    "print('First array:') \n",
    "print(x) \n",
    "print('\\n')  \n",
    "\n",
    "y=np.array([[5,6]]) \n",
    "print('Second array:') \n",
    "print(y) \n",
    "print('\\n')  \n",
    "# both the arrays are of same dimensions \n",
    "\n",
    "print('Joining the two arrays along axis 0:') \n",
    "print(np.concatenate((x,y),axis=0))  \n",
    "# you may write or not write axis=0 it will give same output as it takes deafault axis=0 itself"
   ]
  }
 ],
 "metadata": {
  "kernelspec": {
   "display_name": "Python 3",
   "language": "python",
   "name": "python3"
  },
  "language_info": {
   "codemirror_mode": {
    "name": "ipython",
    "version": 3
   },
   "file_extension": ".py",
   "mimetype": "text/x-python",
   "name": "python",
   "nbconvert_exporter": "python",
   "pygments_lexer": "ipython3",
   "version": "3.9.5"
  }
 },
 "nbformat": 4,
 "nbformat_minor": 5
}
